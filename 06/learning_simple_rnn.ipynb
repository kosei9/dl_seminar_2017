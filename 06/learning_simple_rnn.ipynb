{
 "cells": [
  {
   "cell_type": "code",
   "execution_count": null,
   "metadata": {
    "collapsed": true
   },
   "outputs": [],
   "source": [
    "import tensorflow as tf\n",
    "import numpy as np"
   ]
  },
  {
   "cell_type": "code",
   "execution_count": null,
   "metadata": {},
   "outputs": [],
   "source": [
    "x_list = [4., 2., 9., -1., 3.]\n",
    "t_list = [0., 4., -9., -5., -9.]"
   ]
  },
  {
   "cell_type": "code",
   "execution_count": null,
   "metadata": {},
   "outputs": [],
   "source": [
    "# パラメータの初期値をランダムに生成\n",
    "Wr_val = 0.1  # 3\n",
    "Wi_val = -0.1  # -2\n",
    "b_val = 0.  # 10\n",
    "\n",
    "# 上記 初期値を使ってパラメータを定義\n",
    "Wr = tf.Variable(Wr_val, dtype=tf.float32)\n",
    "Wi = tf.Variable(Wi_val, dtype=tf.float32)\n",
    "b = tf.Variable(b_val, dtype=tf.float32)\n",
    "\n",
    "# 初期値と目指すゴールを並べて表示\n",
    "print(\"Wr: {:.05f} -> {}\".format(Wr_val, 3))\n",
    "print(\"Wi: {:.05f} -> {}\".format(Wi_val, -2))\n",
    "print(\"b: {:.05f} -> {}\".format(b_val, 10))"
   ]
  },
  {
   "cell_type": "code",
   "execution_count": null,
   "metadata": {
    "collapsed": true
   },
   "outputs": [],
   "source": [
    "def scalar_rec_fn(h_tm1, x_t):\n",
    "    return Wr * h_tm1 + Wi * x_t + b"
   ]
  },
  {
   "cell_type": "code",
   "execution_count": null,
   "metadata": {},
   "outputs": [],
   "source": [
    "x = tf.placeholder(dtype=tf.float32, shape=[None])\n",
    "t = tf.placeholder(dtype=tf.float32, shape=[None])\n",
    "init_const = tf.constant(1., dtype=tf.float32)\n",
    "h = tf.scan(scalar_rec_fn, x, initializer=init_const)"
   ]
  },
  {
   "cell_type": "code",
   "execution_count": null,
   "metadata": {},
   "outputs": [],
   "source": [
    "# コストを 出力hと正解tの二乗誤差で定義\n",
    "cost = tf.reduce_mean(0.5 * (h - t) ** 2.)\n",
    "\n",
    "# 学習アルゴリズムを用意、\n",
    "trainer = tf.train.GradientDescentOptimizer(learning_rate=0.001)\n",
    "\n",
    "# 「costを最小化するような パラメータ更新操作」の opを定義、\n",
    "train_op = trainer.minimize(cost, var_list=[Wr, Wi, b])"
   ]
  },
  {
   "cell_type": "code",
   "execution_count": null,
   "metadata": {},
   "outputs": [],
   "source": [
    "# 実際の計算\n",
    "\n",
    "history = list()\n",
    "\n",
    "with tf.Session() as sess:\n",
    "    # variableの初期化\n",
    "    sess.run(tf.global_variables_initializer())\n",
    "    \n",
    "    fd = {x: x_list, t: t_list}\n",
    "    for i in range(20000):\n",
    "        # costの値の取得・レポーティング・記録\n",
    "        cost_val = sess.run(cost, feed_dict=fd)\n",
    "        if i % 100 == 0:\n",
    "            print(\"iter: {}, cost: {:.05f}\".format(i, cost_val))\n",
    "        history.append(cost_val)\n",
    "\n",
    "        # train_opを実行、パラメータを更新\n",
    "        sess.run(train_op, feed_dict=fd)\n",
    "        \n",
    "    print(\"\")\n",
    "    print(\"Wr: {:.05f}\".format(sess.run(Wr)))\n",
    "    print(\"Wi: {:.05f}\".format(sess.run(Wi)))\n",
    "    print(\"b: {:.05f}\".format(sess.run(b)))\n",
    "    \n",
    "    print(sess.run(h, feed_dict={x: x_list}))"
   ]
  },
  {
   "cell_type": "code",
   "execution_count": null,
   "metadata": {
    "collapsed": true
   },
   "outputs": [],
   "source": [
    "# 正解： [0, 4, -9, -5, -9]"
   ]
  },
  {
   "cell_type": "code",
   "execution_count": null,
   "metadata": {
    "collapsed": true
   },
   "outputs": [],
   "source": []
  },
  {
   "cell_type": "code",
   "execution_count": null,
   "metadata": {
    "collapsed": true
   },
   "outputs": [],
   "source": []
  }
 ],
 "metadata": {
  "kernelspec": {
   "display_name": "Python 3",
   "language": "python",
   "name": "python3"
  },
  "language_info": {
   "codemirror_mode": {
    "name": "ipython",
    "version": 3
   },
   "file_extension": ".py",
   "mimetype": "text/x-python",
   "name": "python",
   "nbconvert_exporter": "python",
   "pygments_lexer": "ipython3",
   "version": "3.6.1"
  }
 },
 "nbformat": 4,
 "nbformat_minor": 2
}
