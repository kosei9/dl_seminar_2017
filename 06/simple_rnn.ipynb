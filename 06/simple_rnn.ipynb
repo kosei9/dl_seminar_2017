{
 "cells": [
  {
   "cell_type": "code",
   "execution_count": null,
   "metadata": {
    "collapsed": true
   },
   "outputs": [],
   "source": [
    "import tensorflow as tf"
   ]
  },
  {
   "cell_type": "code",
   "execution_count": null,
   "metadata": {
    "collapsed": true
   },
   "outputs": [],
   "source": [
    "# simple rnn (1)\n",
    "# \n",
    "# 計算ルール： add_fn\n",
    "# 入力値の並び： [1, 1, 1, 1, 1]\n",
    "# 初期値： 0\n",
    "\n",
    "def add_fn(h_tm1, x_t):\n",
    "    return h_tm1 + x_t\n",
    "\n",
    "x = tf.placeholder(dtype=tf.float32, shape=[None])\n",
    "init_const1 = tf.constant(0., dtype=tf.float32)\n",
    "h1 = tf.scan(add_fn, x, initializer=init_const1)"
   ]
  },
  {
   "cell_type": "code",
   "execution_count": null,
   "metadata": {
    "collapsed": true
   },
   "outputs": [],
   "source": [
    "with tf.Session() as sess:\n",
    "    fd = {x: [1, 1, 1, 1, 1]}\n",
    "    results = sess.run(h1, feed_dict=fd)\n",
    "    print(results)"
   ]
  },
  {
   "cell_type": "code",
   "execution_count": null,
   "metadata": {
    "collapsed": true
   },
   "outputs": [],
   "source": []
  },
  {
   "cell_type": "code",
   "execution_count": null,
   "metadata": {
    "collapsed": true
   },
   "outputs": [],
   "source": [
    "# simple rnn (2)\n",
    "#\n",
    "# 計算ルール： add_fn\n",
    "# 入力値の並び： [1, 2, 3, 4, 5]\n",
    "# 初期値： 0\n",
    "\n",
    "init_const2 = tf.constant(0, dtype=tf.float32)\n",
    "h2 = tf.scan(add_fn, x, initializer=init_const2)"
   ]
  },
  {
   "cell_type": "code",
   "execution_count": null,
   "metadata": {
    "collapsed": true
   },
   "outputs": [],
   "source": [
    "# （ここにコードを入力）"
   ]
  },
  {
   "cell_type": "code",
   "execution_count": null,
   "metadata": {
    "collapsed": true
   },
   "outputs": [],
   "source": []
  },
  {
   "cell_type": "code",
   "execution_count": null,
   "metadata": {
    "collapsed": true
   },
   "outputs": [],
   "source": [
    "# simple rnn (3)\n",
    "# \n",
    "# 計算ルール： mul_fn\n",
    "# 入力値の並び： [1, 2, 3, 4, 5]\n",
    "# 初期値： 1\n",
    "\n",
    "# （ここにコードを入力）"
   ]
  },
  {
   "cell_type": "code",
   "execution_count": null,
   "metadata": {
    "collapsed": true
   },
   "outputs": [],
   "source": [
    "with tf.Session() as sess:\n",
    "    # （ここにコードを入力）"
   ]
  },
  {
   "cell_type": "code",
   "execution_count": null,
   "metadata": {
    "collapsed": true
   },
   "outputs": [],
   "source": []
  },
  {
   "cell_type": "code",
   "execution_count": null,
   "metadata": {
    "collapsed": true
   },
   "outputs": [],
   "source": [
    "# simple rnn (4)\n",
    "#\n",
    "# 計算ルール： scalar_rec_fn\n",
    "# 入力値の並び： []\n",
    "# 初期値： 0\n",
    "\n",
    "# （ここにコードを入力）"
   ]
  },
  {
   "cell_type": "code",
   "execution_count": null,
   "metadata": {},
   "outputs": [],
   "source": [
    "with tf.Session() as sess:\n",
    "    # （ここにコードを入力）"
   ]
  },
  {
   "cell_type": "code",
   "execution_count": null,
   "metadata": {
    "collapsed": true
   },
   "outputs": [],
   "source": []
  },
  {
   "cell_type": "code",
   "execution_count": null,
   "metadata": {
    "collapsed": true
   },
   "outputs": [],
   "source": []
  }
 ],
 "metadata": {
  "kernelspec": {
   "display_name": "Python 3",
   "language": "python",
   "name": "python3"
  },
  "language_info": {
   "codemirror_mode": {
    "name": "ipython",
    "version": 3
   },
   "file_extension": ".py",
   "mimetype": "text/x-python",
   "name": "python",
   "nbconvert_exporter": "python",
   "pygments_lexer": "ipython3",
   "version": "3.6.1"
  }
 },
 "nbformat": 4,
 "nbformat_minor": 2
}
